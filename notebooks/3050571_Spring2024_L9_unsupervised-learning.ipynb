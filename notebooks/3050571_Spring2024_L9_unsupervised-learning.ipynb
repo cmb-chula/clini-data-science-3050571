{
 "cells": [
  {
   "cell_type": "markdown",
   "id": "undefined-helping",
   "metadata": {
    "id": "undefined-helping"
   },
   "source": [
    "# Unsupervised analysis of [Colorectal cancer subtyping](https://www.nature.com/articles/nm.3967) data\n",
    "We are using only the TCGA cohort (n = 604) for simplicity. Get [clinical data](https://www.synapse.org/#!Synapse:syn2325330) and [gene expression data](https://www.synapse.org/#!Synapse:syn2325328) from Synapse"
   ]
  },
  {
   "cell_type": "code",
   "execution_count": null,
   "id": "83315045",
   "metadata": {},
   "outputs": [],
   "source": [
    "# !pip install scikit-learn umap-learn networkx python-louvain"
   ]
  },
  {
   "cell_type": "code",
   "execution_count": null,
   "id": "pharmaceutical-thomson",
   "metadata": {
    "id": "pharmaceutical-thomson"
   },
   "outputs": [],
   "source": [
    "import numpy as np\n",
    "import pandas as pd\n",
    "import matplotlib.pyplot as plt\n",
    "import seaborn as sns\n",
    "import umap\n",
    "\n",
    "from sklearn.decomposition import PCA\n",
    "from sklearn.manifold import TSNE, MDS\n",
    "\n",
    "from scipy.spatial.distance import pdist, squareform"
   ]
  },
  {
   "cell_type": "markdown",
   "id": "l9NCmW-Pj5dz",
   "metadata": {
    "id": "l9NCmW-Pj5dz"
   },
   "source": [
    "## CRC TCGA cohort\n",
    "### Gene expression data\n",
    "The gene expression file is **tab-separated**, so we need to specify `sep = '\\t'`\n",
    "\n",
    "We also **transpose** (flip) the patients and genes with `.T`"
   ]
  },
  {
   "cell_type": "code",
   "execution_count": null,
   "id": "KzLoPJT2j40I",
   "metadata": {
    "colab": {
     "base_uri": "https://localhost:8080/",
     "height": 206
    },
    "id": "KzLoPJT2j40I",
    "outputId": "1ac78f68-6e4c-4cb9-ae03-0cd29438a980"
   },
   "outputs": [],
   "source": [
    "crc_gene_data = pd.read_csv('datasets/TCGACRC_expression-merged.zip', index_col = 0, header = 0, sep = '\\t', compression = 'zip')\n",
    "crc_gene_data = crc_gene_data.T\n",
    "crc_gene_data.head(2)"
   ]
  },
  {
   "cell_type": "markdown",
   "id": "e0996d46",
   "metadata": {},
   "source": [
    "### Clinical data"
   ]
  },
  {
   "cell_type": "code",
   "execution_count": null,
   "id": "690266f0",
   "metadata": {},
   "outputs": [],
   "source": [
    "crc_clin_data = pd.read_csv('datasets/TCGACRC_clinical-merged.tsv', index_col = 0, header = 0, sep = '\\t')\n",
    "crc_clin_data.head(2)"
   ]
  },
  {
   "cell_type": "markdown",
   "id": "2470d33b",
   "metadata": {},
   "source": [
    "### Join two tables\n",
    "`axis = 1` means that we are joining the columns\n",
    "\n",
    "`join = 'inner'` means that we are only taking patients that exist in both tables"
   ]
  },
  {
   "cell_type": "code",
   "execution_count": null,
   "id": "e860dbbd",
   "metadata": {},
   "outputs": [],
   "source": [
    "crc_data = pd.concat([crc_clin_data, crc_gene_data], axis = 1, join = 'inner')\n",
    "print(crc_data.shape)\n",
    "crc_data.head(2)"
   ]
  },
  {
   "cell_type": "markdown",
   "id": "6ab32bb6",
   "metadata": {},
   "source": [
    "### Update gene expression table to contain only patients with clinical data\n",
    "Confirm the number of rows"
   ]
  },
  {
   "cell_type": "code",
   "execution_count": null,
   "id": "d9450683",
   "metadata": {},
   "outputs": [],
   "source": [
    "crc_gene_data = crc_gene_data.loc[crc_data.index]\n",
    "print(crc_gene_data.shape)"
   ]
  },
  {
   "cell_type": "markdown",
   "id": "cc66534c",
   "metadata": {},
   "source": [
    "## Dimensionality reduction\n",
    "### PCA\n",
    "For PCA, we will standardize the gene expression profile. A simple way is to subtract by mean and divide by standard deviation. Pandas automatically expand the `.mean()` and `.std()` dataframes for us"
   ]
  },
  {
   "cell_type": "code",
   "execution_count": null,
   "id": "62abc5a9",
   "metadata": {},
   "outputs": [],
   "source": [
    "crc_gene_data_std = (crc_gene_data - crc_gene_data.mean()) / crc_gene_data.std()\n",
    "crc_gene_data_std.head(2)"
   ]
  },
  {
   "cell_type": "markdown",
   "id": "ba952a37",
   "metadata": {},
   "source": [
    "### Confirm that the means are close to zeros and the standard deviations are all ones"
   ]
  },
  {
   "cell_type": "code",
   "execution_count": null,
   "id": "da3be2b0",
   "metadata": {},
   "outputs": [],
   "source": [
    "print(crc_gene_data_std.mean())"
   ]
  },
  {
   "cell_type": "code",
   "execution_count": null,
   "id": "099ff234",
   "metadata": {},
   "outputs": [],
   "source": [
    "print(crc_gene_data_std.std())"
   ]
  },
  {
   "cell_type": "markdown",
   "id": "ea0c8b3a",
   "metadata": {},
   "source": [
    "### Another way to standardize the data is via scikit-learn [sklearn.preprocessing.StandardScaler](https://scikit-learn.org/stable/modules/generated/sklearn.preprocessing.StandardScaler.html) function\n",
    "However, the result is a numpy array, not a pandas dataframe\n",
    "\n",
    "Notice to `.fit()` and `.transform()` pattern"
   ]
  },
  {
   "cell_type": "code",
   "execution_count": null,
   "id": "a35988b0",
   "metadata": {},
   "outputs": [],
   "source": [
    "from sklearn.preprocessing import StandardScaler\n",
    "\n",
    "scaler = StandardScaler().fit(crc_gene_data)\n",
    "crc_gene_data_std_v2 = scaler.transform(crc_gene_data)\n",
    "\n",
    "print(crc_gene_data_std_v2)"
   ]
  },
  {
   "cell_type": "markdown",
   "id": "86e5dfaf",
   "metadata": {},
   "source": [
    "### Perform PCA"
   ]
  },
  {
   "cell_type": "code",
   "execution_count": null,
   "id": "48c49cfd",
   "metadata": {},
   "outputs": [],
   "source": [
    "crc_gene_pca = PCA(random_state = 4649).fit(crc_gene_data_std)\n",
    "crc_gene_pca_embed = crc_gene_pca.transform(crc_gene_data_std)"
   ]
  },
  {
   "cell_type": "markdown",
   "id": "efa3f43a",
   "metadata": {},
   "source": [
    "### Visualize explained variance ratios\n",
    "Truncated at the first 50"
   ]
  },
  {
   "cell_type": "code",
   "execution_count": null,
   "id": "d0dab888",
   "metadata": {},
   "outputs": [],
   "source": [
    "plt.bar(range(1, 51), crc_gene_pca.explained_variance_ratio_[:50])\n",
    "plt.xlabel('PC'); plt.ylabel('explained variance');"
   ]
  },
  {
   "cell_type": "markdown",
   "id": "d76cab4d",
   "metadata": {},
   "source": [
    "### Visualize data on PC1 vs PC2"
   ]
  },
  {
   "cell_type": "code",
   "execution_count": null,
   "id": "0bb16b13",
   "metadata": {},
   "outputs": [],
   "source": [
    "plt.figure(figsize = (5, 5))\n",
    "plt.scatter(crc_gene_pca_embed[:, 0], crc_gene_pca_embed[:, 1])\n",
    "plt.xlabel('PC1'); plt.ylabel('PC2');"
   ]
  },
  {
   "cell_type": "markdown",
   "id": "5714298f",
   "metadata": {},
   "source": [
    "### Color by some clinical variables"
   ]
  },
  {
   "cell_type": "code",
   "execution_count": null,
   "id": "8e827eba",
   "metadata": {},
   "outputs": [],
   "source": [
    "crc_data[crc_clin_data.columns].head(2)"
   ]
  },
  {
   "cell_type": "code",
   "execution_count": null,
   "id": "c758af50",
   "metadata": {},
   "outputs": [],
   "source": [
    "print(pd.unique(crc_data['tStage']))\n",
    "print(pd.unique(crc_data['nStage']))\n",
    "print(pd.unique(crc_data['mStage']))\n",
    "print(pd.unique(crc_data['microsatelite']))\n",
    "print(pd.unique(crc_data['tumorLocation']))"
   ]
  },
  {
   "cell_type": "code",
   "execution_count": null,
   "id": "b0b58a38",
   "metadata": {},
   "outputs": [],
   "source": [
    "def view_embed_clinical_cat(embed, feature, value_order = None):\n",
    "    plt.figure(figsize = (5, 5))\n",
    "\n",
    "    no_value = pd.isna(crc_data[feature])\n",
    "    plt.scatter(embed[no_value, 0], embed[no_value, 1], c = 'lightgray')\n",
    "    \n",
    "    if value_order is None:\n",
    "        value_order = sorted(pd.unique(crc_data[feature].loc[~pd.isna(crc_data[feature])]))\n",
    "    \n",
    "    for value in value_order:\n",
    "        patients = crc_data[feature] == value\n",
    "        plt.scatter(embed[patients, 0], embed[patients, 1], label = value, alpha = 0.5)\n",
    "    \n",
    "    plt.xlabel('PC1'); plt.ylabel('PC2')\n",
    "    plt.title('colored by ' + feature)\n",
    "    plt.legend()\n",
    "    plt.show()"
   ]
  },
  {
   "cell_type": "code",
   "execution_count": null,
   "id": "26516044",
   "metadata": {},
   "outputs": [],
   "source": [
    "view_embed_clinical_cat(crc_gene_pca_embed, 'tStage', ['T0', 'T1', 'T2', 'T3', 'T4', 'T4a', 'T4b'])\n",
    "view_embed_clinical_cat(crc_gene_pca_embed, 'mStage', ['M0', 'M1', 'M1a', 'M1b', 'Mx'])\n",
    "view_embed_clinical_cat(crc_gene_pca_embed, 'tumorLocation')\n",
    "view_embed_clinical_cat(crc_gene_pca_embed, 'microsatelite', ['MSS', 'MSI-L', 'MSI-H', 'Indeterminate'])"
   ]
  },
  {
   "cell_type": "markdown",
   "id": "8652ccfd",
   "metadata": {},
   "source": [
    "### View loadings on the first two PCA components\n",
    "Limited to only 50 genes"
   ]
  },
  {
   "cell_type": "code",
   "execution_count": null,
   "id": "23603c23",
   "metadata": {},
   "outputs": [],
   "source": [
    "plt.figure(figsize = (13, 4))\n",
    "plt.bar(range(50), crc_gene_pca.components_[0][:50])\n",
    "plt.xticks(range(50), labels = crc_gene_data.columns[:50], rotation = 90)\n",
    "plt.ylabel('PC1 loading')\n",
    "plt.show()\n",
    "\n",
    "plt.figure(figsize = (13, 4))\n",
    "plt.bar(range(50), crc_gene_pca.components_[1][:50])\n",
    "plt.xticks(range(50), labels = crc_gene_data.columns[:50], rotation = 90)\n",
    "plt.ylabel('PC2 loading')\n",
    "plt.show()"
   ]
  },
  {
   "cell_type": "markdown",
   "id": "a435cedd",
   "metadata": {},
   "source": [
    "## Let's try calculating similarity between patients using correlation instead\n",
    "Use `crc_gene_data.T` because correlations are calculated between columns"
   ]
  },
  {
   "cell_type": "code",
   "execution_count": null,
   "id": "312a28e8",
   "metadata": {},
   "outputs": [],
   "source": [
    "crc_corr_matrix = crc_gene_data.T.corr(method = 'pearson')\n",
    "display(crc_corr_matrix.head(3))"
   ]
  },
  {
   "cell_type": "markdown",
   "id": "09f23ad2",
   "metadata": {},
   "source": [
    "### To embed with correlation, we need PCoA instead of PCA\n",
    "PCoA is a special case of `sklearn.manifold.MDS`\n",
    "\n",
    "Input `1 - crc_corr_matrix` because correlation and similarity are inverse"
   ]
  },
  {
   "cell_type": "code",
   "execution_count": null,
   "id": "e2f0e93e",
   "metadata": {},
   "outputs": [],
   "source": [
    "pcoa = MDS(n_components = 2, random_state = 4649, dissimilarity = 'precomputed')\n",
    "crc_gene_pcoa_embed = pcoa.fit_transform(1 - crc_corr_matrix)"
   ]
  },
  {
   "cell_type": "code",
   "execution_count": null,
   "id": "985b9b15",
   "metadata": {},
   "outputs": [],
   "source": [
    "view_embed_clinical_cat(crc_gene_pcoa_embed, 'tStage', ['T0', 'T1', 'T2', 'T3', 'T4', 'T4a', 'T4b'])\n",
    "view_embed_clinical_cat(crc_gene_pcoa_embed, 'mStage', ['M0', 'M1', 'M1a', 'M1b', 'Mx'])\n",
    "view_embed_clinical_cat(crc_gene_pcoa_embed, 'tumorLocation')\n",
    "view_embed_clinical_cat(crc_gene_pcoa_embed, 'microsatelite', ['MSS', 'MSI-L', 'MSI-H', 'Indeterminate'])"
   ]
  },
  {
   "cell_type": "markdown",
   "id": "nWgxS7EEssJy",
   "metadata": {
    "id": "nWgxS7EEssJy"
   },
   "source": [
    "## Moving on to more advanced techniques\n",
    "### t-SNE\n",
    "Try several perplexity values\n",
    "\n",
    "Use **%%time** to measure the amount of CPU time used"
   ]
  },
  {
   "cell_type": "code",
   "execution_count": null,
   "id": "EzAjGk7Esseo",
   "metadata": {
    "colab": {
     "base_uri": "https://localhost:8080/",
     "height": 811
    },
    "id": "EzAjGk7Esseo",
    "outputId": "d06c7e2b-4aff-4bd3-b91e-029cd63ce87b",
    "scrolled": false
   },
   "outputs": [],
   "source": [
    "%%time\n",
    "perplexities = [5, 15, 25, 50, 100]\n",
    "\n",
    "plt.figure(figsize = (13, 3))\n",
    "\n",
    "for i, k in enumerate(perplexities, start = 1):\n",
    "    plt.subplot(1, 5, i)\n",
    "    crc_gene_tsne_embed = TSNE(n_components = 2, perplexity = k, random_state = 4649).fit_transform(crc_gene_data_std)\n",
    "    plt.scatter(crc_gene_tsne_embed[:, 0], crc_gene_tsne_embed[:, 1], s = 2)\n",
    "    plt.xlabel('tSNE1'); plt.ylabel('tSNE2')\n",
    "    plt.title('perplexity = ' + str(k))\n",
    "\n",
    "plt.tight_layout()\n",
    "plt.show()"
   ]
  },
  {
   "cell_type": "markdown",
   "id": "dJxm51GowOms",
   "metadata": {
    "id": "dJxm51GowOms"
   },
   "source": [
    "### UMAP\n",
    "Try several neighbor values"
   ]
  },
  {
   "cell_type": "code",
   "execution_count": null,
   "id": "0qBN3ntlwO2-",
   "metadata": {
    "colab": {
     "base_uri": "https://localhost:8080/",
     "height": 513
    },
    "id": "0qBN3ntlwO2-",
    "outputId": "3106dd7e-94fb-4edd-9ffb-e00fba6ff84f"
   },
   "outputs": [],
   "source": [
    "%%time\n",
    "neighbers = [5, 15, 25, 50, 100]\n",
    "\n",
    "plt.figure(figsize = (13, 3))\n",
    "\n",
    "for i, n in enumerate(neighbers, start = 1):\n",
    "    plt.subplot(1, 5, i)\n",
    "    umap_embed = umap.UMAP(n_components = 2, n_neighbors = n, random_state = 4649).fit_transform(crc_gene_data_std)\n",
    "    plt.scatter(umap_embed[:, 0], umap_embed[:, 1], s = 2)\n",
    "    plt.xlabel('UMAP1'); plt.ylabel('UMAP2')\n",
    "    plt.title('n_neighbors = ' + str(n))\n",
    "\n",
    "plt.tight_layout()\n",
    "plt.show()"
   ]
  },
  {
   "cell_type": "markdown",
   "id": "289d84eb",
   "metadata": {},
   "source": [
    "## Let's use UMAP with n_neighbors = 50"
   ]
  },
  {
   "cell_type": "code",
   "execution_count": null,
   "id": "9583c9b3",
   "metadata": {},
   "outputs": [],
   "source": [
    "crc_gene_umap_embed = umap.UMAP(n_components = 2, n_neighbors = 50, random_state = 4649).fit_transform(crc_gene_data_std)"
   ]
  },
  {
   "cell_type": "code",
   "execution_count": null,
   "id": "d7a2b097",
   "metadata": {},
   "outputs": [],
   "source": [
    "view_embed_clinical_cat(crc_gene_umap_embed, 'tStage', ['T0', 'T1', 'T2', 'T3', 'T4', 'T4a', 'T4b'])\n",
    "view_embed_clinical_cat(crc_gene_umap_embed, 'mStage', ['M0', 'M1', 'M1a', 'M1b', 'Mx'])\n",
    "view_embed_clinical_cat(crc_gene_umap_embed, 'tumorLocation')\n",
    "view_embed_clinical_cat(crc_gene_umap_embed, 'microsatelite', ['MSS', 'MSI-L', 'MSI-H', 'Indeterminate'])"
   ]
  },
  {
   "cell_type": "markdown",
   "id": "31bace05",
   "metadata": {},
   "source": [
    "### Effect of UMAP's min_dist"
   ]
  },
  {
   "cell_type": "code",
   "execution_count": null,
   "id": "0e0ed1ef",
   "metadata": {},
   "outputs": [],
   "source": [
    "min_dists = [0, 0.25, 0.75, 1]\n",
    "\n",
    "plt.figure(figsize = (12, 3))\n",
    "\n",
    "for i, m in enumerate(min_dists, start = 1):\n",
    "    plt.subplot(1, 4, i)\n",
    "    umap_embed = umap.UMAP(n_components = 2, n_neighbors = 50, min_dist = m, random_state = 4649).fit_transform(crc_gene_data_std)\n",
    "    plt.scatter(umap_embed[:, 0], umap_embed[:, 1], s = 2)\n",
    "    plt.xlabel('UMAP1'); plt.ylabel('UMAP2')\n",
    "    plt.title('min_dist = ' + str(m))\n",
    "\n",
    "plt.tight_layout()\n",
    "plt.show()"
   ]
  },
  {
   "cell_type": "markdown",
   "id": "845d1e9a",
   "metadata": {},
   "source": [
    "### Finalize UMAP embedding with n_neighbor = 50 and min_dist = 0.25"
   ]
  },
  {
   "cell_type": "code",
   "execution_count": null,
   "id": "191fd09a",
   "metadata": {},
   "outputs": [],
   "source": [
    "crc_gene_final_embed = umap.UMAP(n_components = 2, n_neighbors = 50, min_dist = 0.25, random_state = 4649).fit_transform(crc_gene_data_std)"
   ]
  },
  {
   "cell_type": "code",
   "execution_count": null,
   "id": "77aa636c",
   "metadata": {},
   "outputs": [],
   "source": [
    "plt.figure(figsize = (5, 5))\n",
    "plt.scatter(crc_gene_final_embed[:, 0], crc_gene_final_embed[:, 1])\n",
    "plt.xlabel('UMAP1'); plt.ylabel('UMAP2');"
   ]
  },
  {
   "cell_type": "markdown",
   "id": "4e3f311f",
   "metadata": {},
   "source": [
    "## Who are the patients that are tightly grouped together?\n",
    "Let's select them by UMAP coordinates"
   ]
  },
  {
   "cell_type": "code",
   "execution_count": null,
   "id": "9c2a661c",
   "metadata": {},
   "outputs": [],
   "source": [
    "plt.figure(figsize = (5, 5))\n",
    "plt.scatter(crc_gene_final_embed[:, 0], crc_gene_final_embed[:, 1])\n",
    "plt.axis([2, 4, -0.5, 0.5])\n",
    "plt.xlabel('UMAP1'); plt.ylabel('UMAP2');"
   ]
  },
  {
   "cell_type": "code",
   "execution_count": null,
   "id": "ee038a99",
   "metadata": {},
   "outputs": [],
   "source": [
    "mysterious_patients = crc_gene_data.index[(crc_gene_final_embed[:, 0] <= 3.5) & (crc_gene_final_embed[:, 1] >= -0.3)]\n",
    "print(mysterious_patients)"
   ]
  },
  {
   "cell_type": "code",
   "execution_count": null,
   "id": "cb07ca57",
   "metadata": {},
   "outputs": [],
   "source": [
    "crc_clin_data.loc[mysterious_patients]"
   ]
  },
  {
   "cell_type": "markdown",
   "id": "8cb297b9",
   "metadata": {},
   "source": [
    "# Clustering\n",
    "We will try k-mean, hierarchical, DBSCAN, and some network techniques\n",
    "\n",
    "`silhouette_score` and `calinski_harabasz_score` are quality scores for a clustering result"
   ]
  },
  {
   "cell_type": "code",
   "execution_count": null,
   "id": "32166e9b",
   "metadata": {},
   "outputs": [],
   "source": [
    "from sklearn.cluster import KMeans, AgglomerativeClustering, DBSCAN\n",
    "from sklearn.metrics import silhouette_score, calinski_harabasz_score"
   ]
  },
  {
   "cell_type": "markdown",
   "id": "57b73305",
   "metadata": {},
   "source": [
    "## k-mean\n",
    "`KMeans.inertia_` record the variance\n",
    "\n",
    "`n_init = 5` makes the clustering algorithm repeats 5 times"
   ]
  },
  {
   "cell_type": "code",
   "execution_count": null,
   "id": "c8fbc659",
   "metadata": {},
   "outputs": [],
   "source": [
    "kmean_silhouette = []\n",
    "kmean_caha = []\n",
    "kmean_inertia = []\n",
    "\n",
    "for k in range(2, 10):\n",
    "    kmean = KMeans(n_clusters = k, random_state = 4649, n_init = 5).fit(crc_gene_data_std)\n",
    "    kmean_inertia.append(kmean.inertia_)\n",
    "    \n",
    "    kmean_silhouette.append(silhouette_score(crc_gene_data_std, kmean.labels_))\n",
    "    kmean_caha.append(calinski_harabasz_score(crc_gene_data_std, kmean.labels_))"
   ]
  },
  {
   "cell_type": "markdown",
   "id": "f2aca0e0",
   "metadata": {},
   "source": [
    "### All evaluations point toward two clusters"
   ]
  },
  {
   "cell_type": "code",
   "execution_count": null,
   "id": "6a21af5e",
   "metadata": {},
   "outputs": [],
   "source": [
    "plt.figure(figsize = (12, 3))\n",
    "\n",
    "plt.subplot(1, 3, 1)\n",
    "plt.plot(range(2, 10), kmean_inertia)\n",
    "plt.xlabel('number of clusters'); plt.ylabel('Inertia'); plt.title('Elbow method')\n",
    "\n",
    "plt.subplot(1, 3, 2)\n",
    "plt.plot(range(2, 10), kmean_silhouette)\n",
    "plt.xlabel('number of clusters'); plt.ylabel('Silhouette'); plt.title('Find maximum')\n",
    "\n",
    "plt.subplot(1, 3, 3)\n",
    "plt.plot(range(2, 10), kmean_caha)\n",
    "plt.xlabel('number of clusters'); plt.ylabel('Calinski-Harabasz'); plt.title('Find maximum')\n",
    "\n",
    "plt.tight_layout()\n",
    "plt.show()"
   ]
  },
  {
   "cell_type": "markdown",
   "id": "38fee655",
   "metadata": {},
   "source": [
    "### Visualize the location of the two clusters"
   ]
  },
  {
   "cell_type": "code",
   "execution_count": null,
   "id": "386e70a3",
   "metadata": {},
   "outputs": [],
   "source": [
    "def view_clusters(labels, embed = crc_gene_final_embed):\n",
    "    plt.figure(figsize = (5, 5))\n",
    "    \n",
    "    for k in np.unique(labels):\n",
    "        group = (labels == k)\n",
    "        plt.scatter(embed[group, 0], embed[group, 1], s = 20, label = 'cluster ' + str(k))\n",
    "\n",
    "    plt.xlabel('UMAP1'); plt.ylabel('UMAP2'); plt.legend()"
   ]
  },
  {
   "cell_type": "code",
   "execution_count": null,
   "id": "805a6783",
   "metadata": {},
   "outputs": [],
   "source": [
    "kmean_cluster = KMeans(n_clusters = 2, random_state = 4649).fit_predict(crc_gene_data)\n",
    "view_clusters(kmean_cluster)\n",
    "view_clusters(kmean_cluster, crc_gene_pcoa_embed)"
   ]
  },
  {
   "cell_type": "markdown",
   "id": "c15b6c4b",
   "metadata": {},
   "source": [
    "## Agglomerative / Hierarchical clustering\n",
    "Default with `average` linkage"
   ]
  },
  {
   "cell_type": "code",
   "execution_count": null,
   "id": "22285577",
   "metadata": {},
   "outputs": [],
   "source": [
    "hierarchical_silhouette = []\n",
    "hierarchical_caha = []\n",
    "\n",
    "for k in range(2, 10):\n",
    "    hierarchical = AgglomerativeClustering(n_clusters = k, affinity = 'euclidean', linkage = 'average').fit(crc_gene_data_std)  \n",
    "    hierarchical_silhouette.append(silhouette_score(crc_gene_data_std, hierarchical.labels_))\n",
    "    hierarchical_caha.append(calinski_harabasz_score(crc_gene_data_std, hierarchical.labels_))\n",
    "\n",
    "plt.figure(figsize = (8, 3))\n",
    "plt.subplot(1, 2, 1)\n",
    "plt.plot(range(2, 10), hierarchical_silhouette)\n",
    "plt.xlabel('Number of clusters'); plt.ylabel('Silhouette')\n",
    "\n",
    "plt.subplot(1, 2, 2)\n",
    "plt.plot(range(2, 10), hierarchical_caha)\n",
    "plt.xlabel('Number of clusters'); plt.ylabel('Calinski-Harabasz')\n",
    "\n",
    "plt.tight_layout()\n",
    "plt.show()"
   ]
  },
  {
   "cell_type": "markdown",
   "id": "b6a0506c",
   "metadata": {},
   "source": [
    "### Silhouette suggests 2 clusters while CH suggests 3"
   ]
  },
  {
   "cell_type": "code",
   "execution_count": null,
   "id": "74310a19",
   "metadata": {},
   "outputs": [],
   "source": [
    "hierarchical2 = AgglomerativeClustering(n_clusters = 2, affinity = 'euclidean', linkage = 'average').fit_predict(crc_gene_data_std)\n",
    "hierarchical3 = AgglomerativeClustering(n_clusters = 3, affinity = 'euclidean', linkage = 'average').fit_predict(crc_gene_data_std)"
   ]
  },
  {
   "cell_type": "code",
   "execution_count": null,
   "id": "00374750",
   "metadata": {},
   "outputs": [],
   "source": [
    "view_clusters(hierarchical2)\n",
    "view_clusters(hierarchical2, crc_gene_pcoa_embed)"
   ]
  },
  {
   "cell_type": "code",
   "execution_count": null,
   "id": "badaffae",
   "metadata": {},
   "outputs": [],
   "source": [
    "view_clusters(hierarchical3)\n",
    "view_clusters(hierarchical3, crc_gene_pcoa_embed)"
   ]
  },
  {
   "cell_type": "markdown",
   "id": "4c1c8bd4",
   "metadata": {},
   "source": [
    "## DBSCAN\n",
    "This method doesn't need the number of cluster to be specified. But we need to tune `epsilon` instead\n",
    "\n",
    "Consider values of `epsilon` rangaing from 0.2 to 0.75"
   ]
  },
  {
   "cell_type": "code",
   "execution_count": null,
   "id": "601dbf0d",
   "metadata": {},
   "outputs": [],
   "source": [
    "eps_start = 0.2\n",
    "eps_step = 0.05\n",
    "eps = np.arange(eps_start, eps_step * 11 + eps_start, eps_step)\n",
    "\n",
    "plt.figure(figsize = (12, 10))\n",
    "\n",
    "for i, e in enumerate(eps, start = 1):\n",
    "    plt.subplot(3, 4, i)\n",
    "    dbscan = DBSCAN(eps = e, metric = 'correlation', min_samples = 10)\n",
    "    predicted = dbscan.fit_predict(crc_gene_data_std)\n",
    "    \n",
    "    for k in sorted(np.unique(predicted)):\n",
    "        filt = predicted == k\n",
    "        plt.scatter(crc_gene_final_embed[filt, 0], crc_gene_final_embed[filt, 1], label = 'cluster ' + str(k), s = 10)\n",
    "\n",
    "    plt.xlabel('UMAP1'); plt.ylabel('UMAP2'); plt.legend()\n",
    "    plt.title('epsilon = ' + str(e)[:4])\n",
    "\n",
    "plt.tight_layout()\n",
    "plt.show()    "
   ]
  },
  {
   "cell_type": "markdown",
   "id": "e5658ff3",
   "metadata": {},
   "source": [
    "## Lastly, network clustering\n",
    "`networkx` is a general purpose network analysis library. `python-louvain` is a network clustering algorithm\n",
    "\n",
    "Read more on [Louvain and Leiden](https://www.nature.com/articles/s41598-019-41695-z) algorithms"
   ]
  },
  {
   "cell_type": "code",
   "execution_count": null,
   "id": "c5e55e3c",
   "metadata": {},
   "outputs": [],
   "source": [
    "import networkx as nx\n",
    "import community"
   ]
  },
  {
   "cell_type": "markdown",
   "id": "d538d062",
   "metadata": {},
   "source": [
    "## Create a network of correlation between patients\n",
    "### Remove edges with relatively low correlation to simplify the data"
   ]
  },
  {
   "cell_type": "code",
   "execution_count": null,
   "id": "7a925d0d",
   "metadata": {},
   "outputs": [],
   "source": [
    "plt.hist(crc_corr_matrix.to_numpy().flatten(), bins = 20)\n",
    "plt.xlabel('correlation'); plt.ylabel('frequency');"
   ]
  },
  {
   "cell_type": "code",
   "execution_count": null,
   "id": "4fbf5582",
   "metadata": {},
   "outputs": [],
   "source": [
    "crc_corr_matrix_trunc = crc_corr_matrix.to_numpy().copy()\n",
    "crc_corr_matrix_trunc[crc_corr_matrix_trunc < 0.93] = 0\n",
    "crc_corr_matrix_trunc -= np.eye(crc_corr_matrix_trunc.shape[0]) ## remove diagonal entries\n",
    "    \n",
    "crc_corr_network = nx.from_numpy_array(crc_corr_matrix_trunc)\n",
    "crc_corr_network = nx.relabel_nodes(crc_corr_network, lambda x: crc_gene_data.index[x]) ## Add patient names to nodes\n",
    "_ = crc_corr_network.edges(data = True)"
   ]
  },
  {
   "cell_type": "markdown",
   "id": "a3b85d00",
   "metadata": {},
   "source": [
    "### Visualize a random subnetwork\n",
    "Don't worry about the codes"
   ]
  },
  {
   "cell_type": "code",
   "execution_count": null,
   "id": "26956587",
   "metadata": {},
   "outputs": [],
   "source": [
    "np.random.seed(4649)\n",
    "patients = np.random.choice(crc_gene_data.index, size = 200, replace = False)\n",
    "patients = max(nx.connected_components(crc_corr_network.subgraph(patients)), key = len)\n",
    "selected_graph = crc_corr_network.subgraph(patients)\n",
    "_ = selected_graph.edges(data = True)\n",
    "\n",
    "plt.figure(figsize = (8, 8))\n",
    "edges, weights = zip(*nx.get_edge_attributes(selected_graph, 'weight').items())\n",
    "nx.draw_spring(selected_graph, node_size = 40, edgelist = edges, edge_color = weights, edge_cmap = plt.cm.Greys, alpha = 0.8)\n",
    "plt.show()"
   ]
  },
  {
   "cell_type": "markdown",
   "id": "44f0862b",
   "metadata": {},
   "source": [
    "## Use Louvain algorithm to identify partitions that maximize modularity"
   ]
  },
  {
   "cell_type": "code",
   "execution_count": null,
   "id": "56fde7c0",
   "metadata": {},
   "outputs": [],
   "source": [
    "partition = community.best_partition(crc_corr_network, random_state = 4649)"
   ]
  },
  {
   "cell_type": "code",
   "execution_count": null,
   "id": "ad1dc0e5",
   "metadata": {},
   "outputs": [],
   "source": [
    "louvain_cluster = np.array([partition[x] for x in crc_gene_data.index])\n",
    "unique, counts = np.unique(louvain_cluster, return_counts = True)\n",
    "\n",
    "plt.figure(figsize = (5, 3))\n",
    "plt.hist(counts, bins = 20)\n",
    "plt.xlabel('Partition size'); plt.ylabel('Number of nodes')\n",
    "plt.show()"
   ]
  },
  {
   "cell_type": "markdown",
   "id": "daf28ea2",
   "metadata": {},
   "source": [
    "### Visualize only the large clusters"
   ]
  },
  {
   "cell_type": "code",
   "execution_count": null,
   "id": "3cd012a7",
   "metadata": {},
   "outputs": [],
   "source": [
    "def view_large_clusters(clusters, size_cutoff, embeds = [crc_gene_final_embed, crc_gene_pcoa_embed]):\n",
    "    outliers = []\n",
    "    \n",
    "    plt.figure(figsize = (10, 5))\n",
    "    plt.subplot(1, 2, 1)\n",
    "\n",
    "    for k in np.unique(clusters):\n",
    "        filt = (clusters == k)\n",
    "        \n",
    "        if filt.sum() >= size_cutoff:\n",
    "            plt.scatter(embeds[0][filt, 0], embeds[0][filt, 1], s = 20, label = 'Cluster ' + str(k))\n",
    "        else:\n",
    "            outliers.append(k)\n",
    "\n",
    "    filt = [label for label in clusters if label in outliers]\n",
    "    plt.scatter(embeds[0][filt, 0], embeds[0][filt, 1], s = 20, label = 'Outliers', c = 'tab:gray', alpha = 0.3)       \n",
    "    plt.xlabel('UMAP1'); plt.ylabel('UMAP2'); plt.legend()\n",
    "\n",
    "    plt.subplot(1, 2, 2)\n",
    "\n",
    "    for k in np.unique(clusters):\n",
    "        filt = (clusters == k)\n",
    "        \n",
    "        if filt.sum() >= size_cutoff:\n",
    "            plt.scatter(embeds[1][filt, 0], embeds[1][filt, 1], s = 20, label = 'Cluster ' + str(k))\n",
    "\n",
    "    filt = [label for label in clusters if label in outliers]\n",
    "    plt.scatter(embeds[1][filt, 0], embeds[1][filt, 1], s = 20, label = 'Outliers', c = 'tab:gray', alpha = 0.3)\n",
    "    plt.xlabel('PC1'); plt.ylabel('PC2'); plt.legend()\n",
    "\n",
    "    plt.tight_layout()\n",
    "    plt.show()"
   ]
  },
  {
   "cell_type": "code",
   "execution_count": null,
   "id": "0419e226",
   "metadata": {},
   "outputs": [],
   "source": [
    "view_large_clusters(louvain_cluster, 20)"
   ]
  },
  {
   "cell_type": "markdown",
   "id": "673923bb",
   "metadata": {},
   "source": [
    "## Check the distribution of clinical data across clusters"
   ]
  },
  {
   "cell_type": "code",
   "execution_count": null,
   "id": "b75d535b",
   "metadata": {},
   "outputs": [],
   "source": [
    "updated_louvain_cluster = np.empty(louvain_cluster.shape, dtype = 'object')\n",
    "updated_louvain_cluster[:] = 'Outliers'\n",
    "updated_louvain_cluster[louvain_cluster == 5] = 'Cluster 1'\n",
    "updated_louvain_cluster[louvain_cluster == 8] = 'Cluster 2'\n",
    "updated_louvain_cluster[louvain_cluster == 9] = 'Cluster 3'"
   ]
  },
  {
   "cell_type": "code",
   "execution_count": null,
   "id": "3ba78617",
   "metadata": {},
   "outputs": [],
   "source": [
    "crc_clin_data.columns"
   ]
  },
  {
   "cell_type": "code",
   "execution_count": null,
   "id": "66bd2ed2",
   "metadata": {
    "scrolled": true
   },
   "outputs": [],
   "source": [
    "for feature in ['gender', 'stage', 'tStage', 'nStage', 'mStage', 'tumorLocation', 'microsatelite']:\n",
    "    sns.heatmap(pd.crosstab(crc_data[feature], updated_louvain_cluster, normalize = 'columns'))\n",
    "    plt.show()"
   ]
  },
  {
   "cell_type": "markdown",
   "id": "0d3ed321",
   "metadata": {},
   "source": [
    "## Extra technique - unsupervised feature selection\n",
    "The majority of 20,293 genes measured here would NOT be related to colorectal cancer. So the similiarity calculated using all of the could be misleading\n",
    "\n",
    "### Screen for highly variable genes"
   ]
  },
  {
   "cell_type": "code",
   "execution_count": null,
   "id": "349fceb9",
   "metadata": {},
   "outputs": [],
   "source": [
    "plt.scatter(crc_gene_data.mean(), crc_gene_data.std())\n",
    "plt.xlabel('average expression'); plt.ylabel('standard deviation')\n",
    "plt.show()"
   ]
  },
  {
   "cell_type": "markdown",
   "id": "a394500d",
   "metadata": {},
   "source": [
    "### A lazy method is to sort genes by standard deviation (regardless of average expression)\n",
    "`np.argsort()` returns the indices of genes ordered by standard deviation from low to high"
   ]
  },
  {
   "cell_type": "code",
   "execution_count": null,
   "id": "451fd48a",
   "metadata": {},
   "outputs": [],
   "source": [
    "highly_variable_genes = crc_gene_data.columns[np.argsort(crc_gene_data.std())[-2000:]]\n",
    "\n",
    "plt.scatter(crc_gene_data.mean(), crc_gene_data.std())\n",
    "plt.scatter(crc_gene_data.mean()[highly_variable_genes], crc_gene_data.std()[highly_variable_genes])\n",
    "plt.xlabel('average expression'); plt.ylabel('standard deviation')\n",
    "plt.show()"
   ]
  },
  {
   "cell_type": "markdown",
   "id": "87755311",
   "metadata": {},
   "source": [
    "### Impact of gene selection on patient-patient correlation"
   ]
  },
  {
   "cell_type": "code",
   "execution_count": null,
   "id": "183e36c9",
   "metadata": {},
   "outputs": [],
   "source": [
    "crc_corr_matrix_hv = crc_gene_data[highly_variable_genes].T.corr(method = 'pearson')\n",
    "display(crc_corr_matrix_hv.head(3))"
   ]
  },
  {
   "cell_type": "code",
   "execution_count": null,
   "id": "5040babb",
   "metadata": {},
   "outputs": [],
   "source": [
    "plt.hist(crc_corr_matrix_hv.to_numpy().flatten(), bins = 20)\n",
    "plt.xlabel('correlation'); plt.ylabel('frequency');"
   ]
  },
  {
   "cell_type": "markdown",
   "id": "08a67dd2",
   "metadata": {},
   "source": [
    "## Re-run the dimensionality reduction techniques"
   ]
  },
  {
   "cell_type": "code",
   "execution_count": null,
   "id": "06b1760a",
   "metadata": {},
   "outputs": [],
   "source": [
    "crc_gene_pca_embed_hv = PCA(random_state = 4649).fit_transform(crc_gene_data_std[highly_variable_genes])\n",
    "crc_gene_pcoa_embed_hv = pcoa.fit_transform(1 - crc_corr_matrix_hv)\n",
    "crc_gene_umap_embed_hv = umap.UMAP(n_neighbors = 50, min_dist = 0.25, random_state = 4649).fit_transform(crc_gene_data_std[highly_variable_genes])"
   ]
  },
  {
   "cell_type": "code",
   "execution_count": null,
   "id": "17525b4b",
   "metadata": {},
   "outputs": [],
   "source": [
    "plt.figure(figsize = (14, 4))\n",
    "plt.subplot(1, 3, 1); plt.scatter(crc_gene_pca_embed_hv[:, 0], crc_gene_pca_embed_hv[:, 1]); plt.title('PCA')\n",
    "plt.subplot(1, 3, 2); plt.scatter(crc_gene_pcoa_embed_hv[:, 0], crc_gene_pcoa_embed_hv[:, 1]); plt.title('PCoA with correlation')\n",
    "plt.subplot(1, 3, 3); plt.scatter(crc_gene_umap_embed_hv[:, 0], crc_gene_umap_embed_hv[:, 1]); plt.title('UMAP')\n",
    "plt.tight_layout()\n",
    "plt.show()"
   ]
  },
  {
   "cell_type": "code",
   "execution_count": null,
   "id": "c65b496c",
   "metadata": {},
   "outputs": [],
   "source": [
    "view_embed_clinical_cat(crc_gene_pca_embed_hv, 'tumorLocation')\n",
    "view_embed_clinical_cat(crc_gene_pca_embed_hv, 'microsatelite', ['MSS', 'MSI-L', 'MSI-H', 'Indeterminate'])"
   ]
  },
  {
   "cell_type": "code",
   "execution_count": null,
   "id": "802c2499",
   "metadata": {},
   "outputs": [],
   "source": [
    "view_embed_clinical_cat(crc_gene_pcoa_embed_hv, 'tumorLocation')\n",
    "view_embed_clinical_cat(crc_gene_pcoa_embed_hv, 'microsatelite', ['MSS', 'MSI-L', 'MSI-H', 'Indeterminate'])"
   ]
  },
  {
   "cell_type": "code",
   "execution_count": null,
   "id": "5a38efaa",
   "metadata": {},
   "outputs": [],
   "source": [
    "view_embed_clinical_cat(crc_gene_umap_embed_hv, 'tumorLocation')\n",
    "view_embed_clinical_cat(crc_gene_umap_embed_hv, 'microsatelite', ['MSS', 'MSI-L', 'MSI-H', 'Indeterminate'])"
   ]
  },
  {
   "cell_type": "markdown",
   "id": "6aec249f",
   "metadata": {},
   "source": [
    "## Re-perform network clustering"
   ]
  },
  {
   "cell_type": "code",
   "execution_count": null,
   "id": "b68be681",
   "metadata": {},
   "outputs": [],
   "source": [
    "crc_corr_matrix_trunc_hv = crc_corr_matrix_hv.to_numpy().copy()\n",
    "crc_corr_matrix_trunc_hv[crc_corr_matrix_trunc_hv < 0.65] = 0\n",
    "crc_corr_matrix_trunc_hv -= np.eye(crc_corr_matrix_trunc_hv.shape[0]) ## remove diagonal entries\n",
    "    \n",
    "crc_corr_network_hv = nx.from_numpy_array(crc_corr_matrix_trunc_hv)\n",
    "crc_corr_network_hv = nx.relabel_nodes(crc_corr_network_hv, lambda x: crc_gene_data.index[x]) ## Add patient names to nodes\n",
    "_ = crc_corr_network_hv.edges(data = True)"
   ]
  },
  {
   "cell_type": "code",
   "execution_count": null,
   "id": "a803e5d3",
   "metadata": {},
   "outputs": [],
   "source": [
    "partition_hv = community.best_partition(crc_corr_network_hv, random_state = 4649)"
   ]
  },
  {
   "cell_type": "code",
   "execution_count": null,
   "id": "3b1ce11d",
   "metadata": {},
   "outputs": [],
   "source": [
    "louvain_cluster_hv = np.array([partition_hv[x] for x in crc_gene_data.index])\n",
    "unique_hv, counts_hv = np.unique(louvain_cluster_hv, return_counts = True)\n",
    "\n",
    "plt.figure(figsize = (5, 3))\n",
    "plt.hist(counts_hv, bins = 20)\n",
    "plt.xlabel('Partition size'); plt.ylabel('Number of nodes')\n",
    "plt.show()"
   ]
  },
  {
   "cell_type": "markdown",
   "id": "e7db99c2",
   "metadata": {},
   "source": [
    "### Visualize the new result"
   ]
  },
  {
   "cell_type": "code",
   "execution_count": null,
   "id": "0fb1d64c",
   "metadata": {},
   "outputs": [],
   "source": [
    "view_large_clusters(louvain_cluster_hv, 20, embeds = [crc_gene_umap_embed_hv, crc_gene_pcoa_embed_hv])"
   ]
  },
  {
   "cell_type": "markdown",
   "id": "e3cad13c",
   "metadata": {},
   "source": [
    "### With clinical data"
   ]
  },
  {
   "cell_type": "code",
   "execution_count": null,
   "id": "2f57f5ef",
   "metadata": {},
   "outputs": [],
   "source": [
    "updated_louvain_cluster_hv = np.empty(louvain_cluster_hv.shape, dtype = 'object')\n",
    "updated_louvain_cluster_hv[:] = 'Outliers'\n",
    "updated_louvain_cluster_hv[louvain_cluster_hv == 2] = 'Cluster 1'\n",
    "updated_louvain_cluster_hv[louvain_cluster_hv == 5] = 'Cluster 2'\n",
    "updated_louvain_cluster_hv[louvain_cluster_hv == 8] = 'Cluster 3'\n",
    "updated_louvain_cluster_hv[louvain_cluster_hv == 9] = 'Cluster 4'"
   ]
  },
  {
   "cell_type": "code",
   "execution_count": null,
   "id": "e4ecc7aa",
   "metadata": {
    "scrolled": true
   },
   "outputs": [],
   "source": [
    "for feature in ['gender', 'stage', 'tStage', 'nStage', 'mStage', 'tumorLocation', 'microsatelite']:\n",
    "    sns.heatmap(pd.crosstab(crc_data[feature], updated_louvain_cluster_hv, normalize = 'columns'))\n",
    "    plt.xlabel('')\n",
    "    plt.show()"
   ]
  }
 ],
 "metadata": {
  "colab": {
   "collapsed_sections": [],
   "provenance": [],
   "toc_visible": true
  },
  "kernelspec": {
   "display_name": "Python 3 (ipykernel)",
   "language": "python",
   "name": "python3"
  },
  "language_info": {
   "codemirror_mode": {
    "name": "ipython",
    "version": 3
   },
   "file_extension": ".py",
   "mimetype": "text/x-python",
   "name": "python",
   "nbconvert_exporter": "python",
   "pygments_lexer": "ipython3",
   "version": "3.9.7"
  }
 },
 "nbformat": 4,
 "nbformat_minor": 5
}
